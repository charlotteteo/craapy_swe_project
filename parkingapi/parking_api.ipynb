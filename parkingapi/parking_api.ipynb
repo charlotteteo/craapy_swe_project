{
 "metadata": {
  "language_info": {
   "codemirror_mode": {
    "name": "ipython",
    "version": 3
   },
   "file_extension": ".py",
   "mimetype": "text/x-python",
   "name": "python",
   "nbconvert_exporter": "python",
   "pygments_lexer": "ipython3",
   "version": "3.8.5-final"
  },
  "orig_nbformat": 2,
  "kernelspec": {
   "name": "python3",
   "display_name": "Python 3",
   "language": "python"
  }
 },
 "nbformat": 4,
 "nbformat_minor": 2,
 "cells": [
  {
   "source": [
    "REAL THING"
   ],
   "cell_type": "markdown",
   "metadata": {}
  },
  {
   "cell_type": "code",
   "execution_count": 122,
   "metadata": {},
   "outputs": [
    {
     "output_type": "execute_result",
     "data": {
      "text/plain": [
       "'2022-01-27T15:49:27+08:00'"
      ]
     },
     "metadata": {},
     "execution_count": 122
    }
   ],
   "source": [
    "import json\n",
    "import urllib\n",
    "import requests\n",
    "import pandas as pd\n",
    "\n",
    "#import data from api\n",
    "r = requests.get('https://api.data.gov.sg/v1/transport/carpark-availability')\n",
    "result=r.json()\n",
    "\n",
    "#get the timestamp if needed\n",
    "result[\"items\"][0][\"timestamp\"]\n",
    "\n",
    "#HOWEVER THIS DOESNT AUTO REFRESH ETC that one idk how"
   ]
  },
  {
   "cell_type": "code",
   "execution_count": 123,
   "metadata": {
    "tags": []
   },
   "outputs": [],
   "source": [
    "carparkData = result[\"items\"][0][\"carpark_data\"]\n",
    "\n",
    "#iterates through and flattens the dictionary in list to different columns \n",
    "for carpark in carparkData:\n",
    "    carpark[\"total_lots\"] = carpark[\"carpark_info\"][0]['total_lots']\n",
    "    carpark[\"lot_type\"] = carpark[\"carpark_info\"][0]['lot_type']\n",
    "    carpark[\"lots_available\"] = carpark[\"carpark_info\"][0]['lots_available']\n",
    "    del carpark[\"carpark_info\"]"
   ]
  },
  {
   "cell_type": "code",
   "execution_count": 126,
   "metadata": {},
   "outputs": [
    {
     "output_type": "execute_result",
     "data": {
      "text/plain": [
       "  carpark_number      update_datetime total_lots lot_type lots_available\n",
       "0           HE12  2022-01-27T15:39:54        105        C              0\n",
       "1            HLM  2022-01-27T15:39:33        583        C             81\n",
       "2            RHM  2022-01-27T15:39:54        329        C            192\n",
       "3           BM29  2022-01-27T15:39:52         97        C              0\n",
       "4            Q81  2022-01-27T15:39:42         96        C             18"
      ],
      "text/html": "<div>\n<style scoped>\n    .dataframe tbody tr th:only-of-type {\n        vertical-align: middle;\n    }\n\n    .dataframe tbody tr th {\n        vertical-align: top;\n    }\n\n    .dataframe thead th {\n        text-align: right;\n    }\n</style>\n<table border=\"1\" class=\"dataframe\">\n  <thead>\n    <tr style=\"text-align: right;\">\n      <th></th>\n      <th>carpark_number</th>\n      <th>update_datetime</th>\n      <th>total_lots</th>\n      <th>lot_type</th>\n      <th>lots_available</th>\n    </tr>\n  </thead>\n  <tbody>\n    <tr>\n      <th>0</th>\n      <td>HE12</td>\n      <td>2022-01-27T15:39:54</td>\n      <td>105</td>\n      <td>C</td>\n      <td>0</td>\n    </tr>\n    <tr>\n      <th>1</th>\n      <td>HLM</td>\n      <td>2022-01-27T15:39:33</td>\n      <td>583</td>\n      <td>C</td>\n      <td>81</td>\n    </tr>\n    <tr>\n      <th>2</th>\n      <td>RHM</td>\n      <td>2022-01-27T15:39:54</td>\n      <td>329</td>\n      <td>C</td>\n      <td>192</td>\n    </tr>\n    <tr>\n      <th>3</th>\n      <td>BM29</td>\n      <td>2022-01-27T15:39:52</td>\n      <td>97</td>\n      <td>C</td>\n      <td>0</td>\n    </tr>\n    <tr>\n      <th>4</th>\n      <td>Q81</td>\n      <td>2022-01-27T15:39:42</td>\n      <td>96</td>\n      <td>C</td>\n      <td>18</td>\n    </tr>\n  </tbody>\n</table>\n</div>"
     },
     "metadata": {},
     "execution_count": 126
    }
   ],
   "source": [
    "carparkData = result[\"items\"][0][\"carpark_data\"]\n",
    "df = pd.DataFrame(carparkData)\n",
    "df.head()"
   ]
  },
  {
   "cell_type": "code",
   "execution_count": 125,
   "metadata": {},
   "outputs": [],
   "source": [
    "#export data\n",
    "df.to_csv('parkingAvailability.csv')"
   ]
  },
  {
   "cell_type": "code",
   "execution_count": null,
   "metadata": {},
   "outputs": [],
   "source": []
  }
 ]
}