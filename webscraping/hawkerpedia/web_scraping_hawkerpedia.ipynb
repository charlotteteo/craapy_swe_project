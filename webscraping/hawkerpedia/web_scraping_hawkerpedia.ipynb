{
 "cells": [
  {
   "cell_type": "markdown",
   "metadata": {},
   "source": [
    "HAWKERPEDIA WEBSCRAPING (TRIAL)"
   ]
  },
  {
   "cell_type": "code",
   "execution_count": 34,
   "metadata": {},
   "outputs": [],
   "source": [
    "import requests\n",
    "import json\n",
    "import csv\n",
    "import pandas as pd\n",
    "#change the tail of link to get other hawker centres\n",
    "\n",
    "# page = requests.get(\"https://www.hawkerpedia.com.sg/en/hawker-centre/abcbrickworksmarketfc?\")\n",
    "page = requests.get(\"https://www.hawkerpedia.com.sg/en/hawker-centre/adamroadfc?\")\n",
    "\n",
    "# print(page.content)\n",
    "from bs4 import BeautifulSoup\n",
    "soup = BeautifulSoup(page.content, 'html.parser')\n",
    "# print(soup.prettify())"
   ]
  },
  {
   "cell_type": "code",
   "execution_count": 27,
   "metadata": {},
   "outputs": [
    {
     "name": "stdout",
     "output_type": "stream",
     "text": [
      "{'Id': 5258, 'Thumbnail': 'https://oss.hawkerpedia.com.sg/hawkerpedia/hawker-centre-manually/Adam Road /adamchickenrice_sf.JPG', 'Name': 'Adam Chicken Rice', 'Rating': 79, 'Address': None, 'UnitNo': '01-08', 'StallType': 0, 'Email': '', 'PhoneNumber': '', 'Slug': 'adamchickenrice', 'Tag': None, 'Status': 1, 'FK_Business': 379, 'OperationHours': 'Mon - Sun: 11am-8pm', 'CommunityRating': 76, 'NoOfRating': 7, 'PaylahPublished': 1, 'OriginalCommunityRating': 75, 'CreatedAt': '2020-10-26T04:08:20.000Z', 'UpdatedAt': '2021-11-08T16:13:26.000Z', 'HighlightItems': [{'Name': 'Chicken Rice', 'Description': None, 'Image': '', 'RedirectUrl': None, 'Type': 1, 'Rating': 99}, {'Name': '', 'Description': None, 'Image': 'https://ewr1.vultrobjects.com/hawkerpedia/hawker-centre-manually/Adam Road /adamchickenrice_sf.JPG', 'RedirectUrl': None, 'Type': 0, 'Rating': 99}, {'Name': '', 'Description': None, 'Image': 'https://ewr1.vultrobjects.com/hawkerpedia/hawker-centre-manually/Adam Road /adamchickenrice_m1.JPG', 'RedirectUrl': None, 'Type': 0, 'Rating': 99}], 'FoodCategories': ['Ayam Penyet', 'Roti John'], 'Availability': False, 'BusinessSlug': 'adamroadfc', 'BusinessName': 'Adam Road Food Centre', 'BusinessId': 379, 'LongDescription': '', 'ShortDescription': 'Specialities: Fried chicken rice', 'Lang': 'en', 'Cuisines': [], 'Photo': ' '}\n"
     ]
    },
    {
     "data": {
      "text/plain": [
       "'Adam Chicken Rice'"
      ]
     },
     "execution_count": 27,
     "metadata": {},
     "output_type": "execute_result"
    }
   ],
   "source": [
    "#####exploration on syntax to extract a single hawker store\n",
    "\n",
    "all_info=str(list(soup.children)[1])\n",
    "\n",
    "\n",
    "split_further=all_info.split(\"stallList\",1)[1].split(\"[]},\")\n",
    "# break string based on \"\"Photo\":[]},\"\"\n",
    "\n",
    "edited=split_further[0]+'\" \"}'\n",
    "edited=edited.split('\"Id\"')[1]\n",
    "\n",
    "edited='{\"Id\"'+edited\n",
    "# print(edited)\n",
    "\n",
    "convertedDict=json.loads(edited)\n",
    "print(convertedDict)\n",
    "with open(\"trial_hawkerpedia.json\", 'w') as f:\n",
    "            json.dump(convertedDict, f)\n",
    "# convertedDict.keys()\n",
    "convertedDict[\"Name\"]\n",
    "\n"
   ]
  },
  {
   "cell_type": "code",
   "execution_count": 31,
   "metadata": {},
   "outputs": [],
   "source": [
    "# test\n",
    "for x in range(5):\n",
    "    try:\n",
    "        split_further=all_info.split(\"stallList\",1)[1].split(\"[]},\")\n",
    "\n",
    "        # break string based on \"\"Photo\":[]},\"\"\n",
    "        edited=split_further[x]+'\" \"}'\n",
    "        edited=edited.split('\"Id\"')[1]\n",
    "\n",
    "        edited='{\"Id\"'+edited\n",
    "        # print(edited)\n",
    "\n",
    "\n",
    "        \n",
    "        \n",
    "    except:\n",
    "        print(\"error generated\")"
   ]
  },
  {
   "cell_type": "code",
   "execution_count": 33,
   "metadata": {},
   "outputs": [
    {
     "name": "stdout",
     "output_type": "stream",
     "text": [
      "Adam Chicken Rice\n",
      "Adam Drinks Stall\n",
      "Adam Fishball Noodle\n",
      "Adam Rd Noo Cheng Big Prawn Noodles\n",
      "Adam Seafood BBQ\n",
      "Adam's Delights\n",
      "Adam's Indian Rojak\n",
      "Adam's Nasi Lemak\n",
      "Al-Sheik Mee Stall\n",
      "Apit Drink Stall\n",
      "Bahrakath Mutton Soup\n",
      "Cheng Ji\n",
      "Fruitopia\n",
      "Hokkien Fried Prawn Noodle Fried Kway Teow Fried Oyster Carrot Cake\n",
      "Hua Ji Hai Nan Ji Fan\n",
      "Ibrahim Mee Stall\n",
      "Nasi Singapura\n",
      "Pondok Satay\n",
      "Selera Rasa Nasi Lemak\n",
      "Seng Teck Kee\n",
      "Sin Chuan Huat Drinks Stall\n",
      "Siti Nur Liyana Nasi Lemak\n",
      "Stewart Fruit Juice\n",
      "Taj Mahal Drinks Stall\n",
      "Teck Kee Hot & Cold Dessert\n",
      "TFF Boneless Chicken Rice\n",
      "Thajudeen Teh Tarik\n",
      "The Sugarcane Plant\n",
      "Warong Pak Sapari\n",
      "You Ji Lu Ya Zhi Jia\n",
      "Yummy Rojak\n"
     ]
    }
   ],
   "source": [
    "# full dataset\n",
    "stores={}\n",
    "for x in range(len(all_info.split(\"stallList\",1)[1].split(\"[]},\"))):\n",
    "    try:\n",
    "        split_further=all_info.split(\"stallList\",1)[1].split(\"[]},\")\n",
    "        # print(split_further[x])\n",
    "    \n",
    "        # break string based on \"\"Photo\":[]},\"\"\n",
    "        edited=split_further[x]+'\" \"}'\n",
    "        edited=edited.split('\"Id\"')[1]\n",
    "\n",
    "        edited='{\"Id\"'+edited\n",
    "      \n",
    "        convertedDict=json.loads(edited)\n",
    "        print(convertedDict[\"Name\"])\n",
    "        stores[str(x)]=convertedDict\n",
    "        \n",
    "    except:\n",
    "        break\n",
    "\n",
    "# print(stores)\n",
    "\n",
    "with open(\"output/adamrd_hawkerpedia.json\", 'w') as f:\n",
    "    json.dump(stores, f)\n",
    "\n"
   ]
  },
  {
   "cell_type": "code",
   "execution_count": 30,
   "metadata": {},
   "outputs": [],
   "source": [
    "#json to csv\n",
    "pdObj = pd.read_json('output/adamrd_hawkerpedia.json', orient='index')\n",
    "pdObj.to_csv(\"output/adamrd_data_file.csv\")\n",
    "\n",
    "#json to csv\n",
    "pdObj = pd.read_json('output/abc_hawkerpedia.json', orient='index')\n",
    "pdObj.to_csv(\"output/abcbrickworks_data_file.csv\")"
   ]
  }
 ],
 "metadata": {
  "interpreter": {
   "hash": "40d3a090f54c6569ab1632332b64b2c03c39dcf918b08424e98f38b5ae0af88f"
  },
  "kernelspec": {
   "display_name": "Python 3.9.7 64-bit ('base': conda)",
   "language": "python",
   "name": "python3"
  },
  "language_info": {
   "codemirror_mode": {
    "name": "ipython",
    "version": 3
   },
   "file_extension": ".py",
   "mimetype": "text/x-python",
   "name": "python",
   "nbconvert_exporter": "python",
   "pygments_lexer": "ipython3",
   "version": "3.9.7"
  },
  "orig_nbformat": 4
 },
 "nbformat": 4,
 "nbformat_minor": 2
}
